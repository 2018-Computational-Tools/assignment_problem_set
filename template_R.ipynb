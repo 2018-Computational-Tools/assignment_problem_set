{
 "cells": [
  {
   "cell_type": "code",
   "execution_count": 5,
   "metadata": {},
   "outputs": [],
   "source": [
    "# setup\n",
    "library(dplyr)\n",
    "library(ggplot2)\n",
    "source(file.path(\"scripts\", \"functions.R\"))"
   ]
  },
  {
   "cell_type": "markdown",
   "metadata": {},
   "source": [
    "# $\\LaTeX$ Math\n",
    "\n",
    "This is just markdown that can include latex math.\n",
    "\n",
    "$$\n",
    "\\begin{align}\n",
    "\\dot{x} & = \\sigma(y-x) \\\\\n",
    "\\dot{y} & = \\rho x - y - xz \\\\\n",
    "\\dot{z} & = -\\beta z + xy\n",
    "\\end{align}\n",
    "$$"
   ]
  },
  {
   "cell_type": "markdown",
   "metadata": {},
   "source": [
    "# System Info\n"
   ]
  },
  {
   "cell_type": "code",
   "execution_count": 6,
   "metadata": {},
   "outputs": [
    {
     "data": {
      "text/plain": [
       "R version 3.5.1 (2018-07-02)\n",
       "Platform: x86_64-apple-darwin15.6.0 (64-bit)\n",
       "Running under: macOS High Sierra 10.13.1\n",
       "\n",
       "Matrix products: default\n",
       "BLAS: /Library/Frameworks/R.framework/Versions/3.5/Resources/lib/libRblas.0.dylib\n",
       "LAPACK: /Library/Frameworks/R.framework/Versions/3.5/Resources/lib/libRlapack.dylib\n",
       "\n",
       "locale:\n",
       "[1] en_US.UTF-8/en_US.UTF-8/en_US.UTF-8/C/en_US.UTF-8/en_US.UTF-8\n",
       "\n",
       "attached base packages:\n",
       "[1] stats     graphics  grDevices utils     datasets  methods   base     \n",
       "\n",
       "other attached packages:\n",
       "[1] dplyr_0.7.6   ggplot2_3.0.0\n",
       "\n",
       "loaded via a namespace (and not attached):\n",
       " [1] Rcpp_0.12.18         compiler_3.5.1       pillar_1.3.0        \n",
       " [4] plyr_1.8.4           bindr_0.1.1          base64enc_0.1-3     \n",
       " [7] tools_3.5.1          digest_0.6.18        uuid_0.1-2          \n",
       "[10] jsonlite_1.5         evaluate_0.11        tibble_1.4.2        \n",
       "[13] gtable_0.2.0         pkgconfig_2.0.2      rlang_0.2.2         \n",
       "[16] IRdisplay_0.5.0      rstudioapi_0.8       IRkernel_0.8.12.9000\n",
       "[19] bindrcpp_0.2.2       withr_2.1.2          repr_0.15.0         \n",
       "[22] stringr_1.3.1        grid_3.5.1           tidyselect_0.2.4    \n",
       "[25] glue_1.3.0           R6_2.3.0             pbdZMQ_0.3-3        \n",
       "[28] purrr_0.2.5          magrittr_1.5         scales_1.0.0        \n",
       "[31] htmltools_0.3.6      assertthat_0.2.0     colorspace_1.3-2    \n",
       "[34] labeling_0.3         stringi_1.2.4        lazyeval_0.2.1      \n",
       "[37] munsell_0.5.0        crayon_1.3.4        "
      ]
     },
     "metadata": {},
     "output_type": "display_data"
    }
   ],
   "source": [
    "# session info\n",
    "sessionInfo()"
   ]
  },
  {
   "cell_type": "markdown",
   "metadata": {},
   "source": [
    "# Custom Function\n"
   ]
  },
  {
   "cell_type": "code",
   "execution_count": 7,
   "metadata": {},
   "outputs": [
    {
     "data": {
      "text/html": [
       "7"
      ],
      "text/latex": [
       "7"
      ],
      "text/markdown": [
       "7"
      ],
      "text/plain": [
       "[1] 7"
      ]
     },
     "metadata": {},
     "output_type": "display_data"
    }
   ],
   "source": [
    "# custom function from scripts/functions.R loaded in setup\n",
    "test_add(2,5)"
   ]
  },
  {
   "cell_type": "markdown",
   "metadata": {},
   "source": [
    "# Data"
   ]
  },
  {
   "cell_type": "code",
   "execution_count": 11,
   "metadata": {},
   "outputs": [
    {
     "data": {
      "text/html": [
       "<table>\n",
       "<thead><tr><th scope=col>x</th><th scope=col>err</th><th scope=col>y</th></tr></thead>\n",
       "<tbody>\n",
       "\t<tr><td>-20         </td><td> -6.4322131 </td><td>6.986619e+02</td></tr>\n",
       "\t<tr><td>-19         </td><td> -3.4616517 </td><td>5.045258e+02</td></tr>\n",
       "\t<tr><td>-18         </td><td> -2.3531668 </td><td>4.142514e+02</td></tr>\n",
       "\t<tr><td>-17         </td><td>  0.5574735 </td><td>2.703567e+02</td></tr>\n",
       "\t<tr><td>-16         </td><td> -0.8331046 </td><td>2.833534e+02</td></tr>\n",
       "\t<tr><td>-15         </td><td> -1.9470922 </td><td>2.872039e+02</td></tr>\n",
       "\t<tr><td>-14         </td><td>  4.8306084 </td><td>8.407774e+01</td></tr>\n",
       "\t<tr><td>-13         </td><td>  0.9451783 </td><td>1.453187e+02</td></tr>\n",
       "\t<tr><td>-12         </td><td> 12.7034677 </td><td>4.948667e-01</td></tr>\n",
       "\t<tr><td>-11         </td><td> -0.5350660 </td><td>1.330577e+02</td></tr>\n",
       "\t<tr><td>-10         </td><td> -6.4331771 </td><td>2.700493e+02</td></tr>\n",
       "\t<tr><td> -9         </td><td>-10.0379368 </td><td>3.624430e+02</td></tr>\n",
       "\t<tr><td> -8         </td><td>  7.9809536 </td><td>3.627651e-04</td></tr>\n",
       "\t<tr><td> -7         </td><td> -5.6601799 </td><td>1.602802e+02</td></tr>\n",
       "\t<tr><td> -6         </td><td>  1.7322078 </td><td>1.821405e+01</td></tr>\n",
       "\t<tr><td> -5         </td><td> -4.5535786 </td><td>9.127086e+01</td></tr>\n",
       "\t<tr><td> -4         </td><td> 17.2915501 </td><td>1.766653e+02</td></tr>\n",
       "\t<tr><td> -3         </td><td> -9.8182058 </td><td>1.643064e+02</td></tr>\n",
       "\t<tr><td> -2         </td><td>  9.8804721 </td><td>6.210184e+01</td></tr>\n",
       "\t<tr><td> -1         </td><td> -4.9589105 </td><td>3.550861e+01</td></tr>\n",
       "\t<tr><td>  0         </td><td>  5.3691548 </td><td>2.882782e+01</td></tr>\n",
       "\t<tr><td>  1         </td><td>  9.1051481 </td><td>1.021140e+02</td></tr>\n",
       "\t<tr><td>  2         </td><td> -2.0427099 </td><td>1.824137e-03</td></tr>\n",
       "\t<tr><td>  3         </td><td> -6.1734784 </td><td>1.007097e+01</td></tr>\n",
       "\t<tr><td>  4         </td><td> -3.2478126 </td><td>5.657859e-01</td></tr>\n",
       "\t<tr><td>  5         </td><td>  5.0367219 </td><td>1.007358e+02</td></tr>\n",
       "\t<tr><td>  6         </td><td> -8.1611409 </td><td>4.670530e+00</td></tr>\n",
       "\t<tr><td>  7         </td><td> -9.6995395 </td><td>7.287513e+00</td></tr>\n",
       "\t<tr><td>  8         </td><td> -4.5997900 </td><td>1.156143e+01</td></tr>\n",
       "\t<tr><td>  9         </td><td> -5.5691844 </td><td>1.177050e+01</td></tr>\n",
       "\t<tr><td> 10         </td><td> -0.9848659 </td><td>8.127264e+01</td></tr>\n",
       "\t<tr><td> 11         </td><td> -0.5603663 </td><td>1.089860e+02</td></tr>\n",
       "\t<tr><td> 12         </td><td>  3.6176817 </td><td>2.439120e+02</td></tr>\n",
       "\t<tr><td> 13         </td><td>  7.4122135 </td><td>4.166585e+02</td></tr>\n",
       "\t<tr><td> 14         </td><td> -4.0816843 </td><td>9.837299e+01</td></tr>\n",
       "\t<tr><td> 15         </td><td>  0.5400252 </td><td>2.414924e+02</td></tr>\n",
       "\t<tr><td> 16         </td><td>  1.0378357 </td><td>2.902878e+02</td></tr>\n",
       "\t<tr><td> 17         </td><td>-10.4452496 </td><td>4.296475e+01</td></tr>\n",
       "\t<tr><td> 18         </td><td> 13.6996817 </td><td>1.004870e+03</td></tr>\n",
       "\t<tr><td> 19         </td><td>  0.4511886 </td><td>3.783487e+02</td></tr>\n",
       "\t<tr><td> 20         </td><td>  4.6184180 </td><td>6.060665e+02</td></tr>\n",
       "</tbody>\n",
       "</table>\n"
      ],
      "text/latex": [
       "\\begin{tabular}{r|lll}\n",
       " x & err & y\\\\\n",
       "\\hline\n",
       "\t -20          &  -6.4322131  & 6.986619e+02\\\\\n",
       "\t -19          &  -3.4616517  & 5.045258e+02\\\\\n",
       "\t -18          &  -2.3531668  & 4.142514e+02\\\\\n",
       "\t -17          &   0.5574735  & 2.703567e+02\\\\\n",
       "\t -16          &  -0.8331046  & 2.833534e+02\\\\\n",
       "\t -15          &  -1.9470922  & 2.872039e+02\\\\\n",
       "\t -14          &   4.8306084  & 8.407774e+01\\\\\n",
       "\t -13          &   0.9451783  & 1.453187e+02\\\\\n",
       "\t -12          &  12.7034677  & 4.948667e-01\\\\\n",
       "\t -11          &  -0.5350660  & 1.330577e+02\\\\\n",
       "\t -10          &  -6.4331771  & 2.700493e+02\\\\\n",
       "\t  -9          & -10.0379368  & 3.624430e+02\\\\\n",
       "\t  -8          &   7.9809536  & 3.627651e-04\\\\\n",
       "\t  -7          &  -5.6601799  & 1.602802e+02\\\\\n",
       "\t  -6          &   1.7322078  & 1.821405e+01\\\\\n",
       "\t  -5          &  -4.5535786  & 9.127086e+01\\\\\n",
       "\t  -4          &  17.2915501  & 1.766653e+02\\\\\n",
       "\t  -3          &  -9.8182058  & 1.643064e+02\\\\\n",
       "\t  -2          &   9.8804721  & 6.210184e+01\\\\\n",
       "\t  -1          &  -4.9589105  & 3.550861e+01\\\\\n",
       "\t   0          &   5.3691548  & 2.882782e+01\\\\\n",
       "\t   1          &   9.1051481  & 1.021140e+02\\\\\n",
       "\t   2          &  -2.0427099  & 1.824137e-03\\\\\n",
       "\t   3          &  -6.1734784  & 1.007097e+01\\\\\n",
       "\t   4          &  -3.2478126  & 5.657859e-01\\\\\n",
       "\t   5          &   5.0367219  & 1.007358e+02\\\\\n",
       "\t   6          &  -8.1611409  & 4.670530e+00\\\\\n",
       "\t   7          &  -9.6995395  & 7.287513e+00\\\\\n",
       "\t   8          &  -4.5997900  & 1.156143e+01\\\\\n",
       "\t   9          &  -5.5691844  & 1.177050e+01\\\\\n",
       "\t  10          &  -0.9848659  & 8.127264e+01\\\\\n",
       "\t  11          &  -0.5603663  & 1.089860e+02\\\\\n",
       "\t  12          &   3.6176817  & 2.439120e+02\\\\\n",
       "\t  13          &   7.4122135  & 4.166585e+02\\\\\n",
       "\t  14          &  -4.0816843  & 9.837299e+01\\\\\n",
       "\t  15          &   0.5400252  & 2.414924e+02\\\\\n",
       "\t  16          &   1.0378357  & 2.902878e+02\\\\\n",
       "\t  17          & -10.4452496  & 4.296475e+01\\\\\n",
       "\t  18          &  13.6996817  & 1.004870e+03\\\\\n",
       "\t  19          &   0.4511886  & 3.783487e+02\\\\\n",
       "\t  20          &   4.6184180  & 6.060665e+02\\\\\n",
       "\\end{tabular}\n"
      ],
      "text/markdown": [
       "\n",
       "x | err | y | \n",
       "|---|---|---|---|---|---|---|---|---|---|---|---|---|---|---|---|---|---|---|---|---|---|---|---|---|---|---|---|---|---|---|---|---|---|---|---|---|---|---|---|---|\n",
       "| -20          |  -6.4322131  | 6.986619e+02 | \n",
       "| -19          |  -3.4616517  | 5.045258e+02 | \n",
       "| -18          |  -2.3531668  | 4.142514e+02 | \n",
       "| -17          |   0.5574735  | 2.703567e+02 | \n",
       "| -16          |  -0.8331046  | 2.833534e+02 | \n",
       "| -15          |  -1.9470922  | 2.872039e+02 | \n",
       "| -14          |   4.8306084  | 8.407774e+01 | \n",
       "| -13          |   0.9451783  | 1.453187e+02 | \n",
       "| -12          |  12.7034677  | 4.948667e-01 | \n",
       "| -11          |  -0.5350660  | 1.330577e+02 | \n",
       "| -10          |  -6.4331771  | 2.700493e+02 | \n",
       "|  -9          | -10.0379368  | 3.624430e+02 | \n",
       "|  -8          |   7.9809536  | 3.627651e-04 | \n",
       "|  -7          |  -5.6601799  | 1.602802e+02 | \n",
       "|  -6          |   1.7322078  | 1.821405e+01 | \n",
       "|  -5          |  -4.5535786  | 9.127086e+01 | \n",
       "|  -4          |  17.2915501  | 1.766653e+02 | \n",
       "|  -3          |  -9.8182058  | 1.643064e+02 | \n",
       "|  -2          |   9.8804721  | 6.210184e+01 | \n",
       "|  -1          |  -4.9589105  | 3.550861e+01 | \n",
       "|   0          |   5.3691548  | 2.882782e+01 | \n",
       "|   1          |   9.1051481  | 1.021140e+02 | \n",
       "|   2          |  -2.0427099  | 1.824137e-03 | \n",
       "|   3          |  -6.1734784  | 1.007097e+01 | \n",
       "|   4          |  -3.2478126  | 5.657859e-01 | \n",
       "|   5          |   5.0367219  | 1.007358e+02 | \n",
       "|   6          |  -8.1611409  | 4.670530e+00 | \n",
       "|   7          |  -9.6995395  | 7.287513e+00 | \n",
       "|   8          |  -4.5997900  | 1.156143e+01 | \n",
       "|   9          |  -5.5691844  | 1.177050e+01 | \n",
       "|  10          |  -0.9848659  | 8.127264e+01 | \n",
       "|  11          |  -0.5603663  | 1.089860e+02 | \n",
       "|  12          |   3.6176817  | 2.439120e+02 | \n",
       "|  13          |   7.4122135  | 4.166585e+02 | \n",
       "|  14          |  -4.0816843  | 9.837299e+01 | \n",
       "|  15          |   0.5400252  | 2.414924e+02 | \n",
       "|  16          |   1.0378357  | 2.902878e+02 | \n",
       "|  17          | -10.4452496  | 4.296475e+01 | \n",
       "|  18          |  13.6996817  | 1.004870e+03 | \n",
       "|  19          |   0.4511886  | 3.783487e+02 | \n",
       "|  20          |   4.6184180  | 6.060665e+02 | \n",
       "\n",
       "\n"
      ],
      "text/plain": [
       "   x   err         y           \n",
       "1  -20  -6.4322131 6.986619e+02\n",
       "2  -19  -3.4616517 5.045258e+02\n",
       "3  -18  -2.3531668 4.142514e+02\n",
       "4  -17   0.5574735 2.703567e+02\n",
       "5  -16  -0.8331046 2.833534e+02\n",
       "6  -15  -1.9470922 2.872039e+02\n",
       "7  -14   4.8306084 8.407774e+01\n",
       "8  -13   0.9451783 1.453187e+02\n",
       "9  -12  12.7034677 4.948667e-01\n",
       "10 -11  -0.5350660 1.330577e+02\n",
       "11 -10  -6.4331771 2.700493e+02\n",
       "12  -9 -10.0379368 3.624430e+02\n",
       "13  -8   7.9809536 3.627651e-04\n",
       "14  -7  -5.6601799 1.602802e+02\n",
       "15  -6   1.7322078 1.821405e+01\n",
       "16  -5  -4.5535786 9.127086e+01\n",
       "17  -4  17.2915501 1.766653e+02\n",
       "18  -3  -9.8182058 1.643064e+02\n",
       "19  -2   9.8804721 6.210184e+01\n",
       "20  -1  -4.9589105 3.550861e+01\n",
       "21   0   5.3691548 2.882782e+01\n",
       "22   1   9.1051481 1.021140e+02\n",
       "23   2  -2.0427099 1.824137e-03\n",
       "24   3  -6.1734784 1.007097e+01\n",
       "25   4  -3.2478126 5.657859e-01\n",
       "26   5   5.0367219 1.007358e+02\n",
       "27   6  -8.1611409 4.670530e+00\n",
       "28   7  -9.6995395 7.287513e+00\n",
       "29   8  -4.5997900 1.156143e+01\n",
       "30   9  -5.5691844 1.177050e+01\n",
       "31  10  -0.9848659 8.127264e+01\n",
       "32  11  -0.5603663 1.089860e+02\n",
       "33  12   3.6176817 2.439120e+02\n",
       "34  13   7.4122135 4.166585e+02\n",
       "35  14  -4.0816843 9.837299e+01\n",
       "36  15   0.5400252 2.414924e+02\n",
       "37  16   1.0378357 2.902878e+02\n",
       "38  17 -10.4452496 4.296475e+01\n",
       "39  18  13.6996817 1.004870e+03\n",
       "40  19   0.4511886 3.783487e+02\n",
       "41  20   4.6184180 6.060665e+02"
      ]
     },
     "metadata": {},
     "output_type": "display_data"
    }
   ],
   "source": [
    "# data\n",
    "parabola <- \n",
    "  data_frame(\n",
    "    x = -20:20,\n",
    "    err = rnorm(n = length(x), sd = 5),\n",
    "    y = (x + err)^2\n",
    "  ) \n",
    "parabola"
   ]
  },
  {
   "cell_type": "markdown",
   "metadata": {},
   "source": [
    "# Plot"
   ]
  },
  {
   "cell_type": "code",
   "execution_count": 20,
   "metadata": {},
   "outputs": [
    {
     "data": {},
     "metadata": {},
     "output_type": "display_data"
    },
    {
     "data": {
      "image/png": "[encoded data removed]",
      "text/plain": [
       "plot without title"
      ]
     },
     "metadata": {},
     "output_type": "display_data"
    }
   ],
   "source": [
    "options(repr.plot.width=6, repr.plot.height=4)\n",
    "parabola %>% \n",
    "  ggplot() + \n",
    "  aes(x, y) +\n",
    "  geom_smooth(method = \"lm\", formula = y ~ I(x^2)) + \n",
    "  geom_point() + \n",
    "  theme_bw()"
   ]
  },
  {
   "cell_type": "code",
   "execution_count": null,
   "metadata": {},
   "outputs": [],
   "source": []
  }
 ],
 "metadata": {
  "kernelspec": {
   "display_name": "R",
   "language": "R",
   "name": "ir"
  },
  "language_info": {
   "codemirror_mode": "r",
   "file_extension": ".r",
   "mimetype": "text/x-r-source",
   "name": "R",
   "pygments_lexer": "r",
   "version": "3.5.1"
  }
 },
 "nbformat": 4,
 "nbformat_minor": 2
}
