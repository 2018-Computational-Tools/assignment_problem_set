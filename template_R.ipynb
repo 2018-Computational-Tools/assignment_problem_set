{
 "cells": [
  {
   "cell_type": "code",
   "execution_count": 1,
   "metadata": {},
   "outputs": [
    {
     "name": "stderr",
     "output_type": "stream",
     "text": [
      "\n",
      "Attaching package: ‘dplyr’\n",
      "\n",
      "The following objects are masked from ‘package:stats’:\n",
      "\n",
      "    filter, lag\n",
      "\n",
      "The following objects are masked from ‘package:base’:\n",
      "\n",
      "    intersect, setdiff, setequal, union\n",
      "\n"
     ]
    }
   ],
   "source": [
    "# setup\n",
    "library(dplyr)\n",
    "library(ggplot2)\n",
    "source(file.path(\"scripts\", \"functions.R\"))"
   ]
  },
  {
   "cell_type": "markdown",
   "metadata": {},
   "source": [
    "# $\\LaTeX$ Math\n",
    "\n",
    "This is just markdown that can include latex math.\n",
    "\n",
    "$$\n",
    "\\begin{align}\n",
    "\\dot{x} & = \\sigma(y-x) \\\\\n",
    "\\dot{y} & = \\rho x - y - xz \\\\\n",
    "\\dot{z} & = -\\beta z + xy\n",
    "\\end{align}\n",
    "$$"
   ]
  },
  {
   "cell_type": "markdown",
   "metadata": {},
   "source": [
    "# System Info\n"
   ]
  },
  {
   "cell_type": "code",
   "execution_count": 22,
   "metadata": {},
   "outputs": [
    {
     "data": {
      "text/plain": [
       "R version 3.5.1 (2018-07-02)\n",
       "Platform: x86_64-apple-darwin15.6.0 (64-bit)\n",
       "Running under: macOS High Sierra 10.13.1\n",
       "\n",
       "Matrix products: default\n",
       "BLAS: /Library/Frameworks/R.framework/Versions/3.5/Resources/lib/libRblas.0.dylib\n",
       "LAPACK: /Library/Frameworks/R.framework/Versions/3.5/Resources/lib/libRlapack.dylib\n",
       "\n",
       "locale:\n",
       "[1] en_US.UTF-8/en_US.UTF-8/en_US.UTF-8/C/en_US.UTF-8/en_US.UTF-8\n",
       "\n",
       "attached base packages:\n",
       "[1] stats     graphics  grDevices utils     datasets  methods   base     \n",
       "\n",
       "other attached packages:\n",
       "[1] dplyr_0.7.6   ggplot2_3.0.0\n",
       "\n",
       "loaded via a namespace (and not attached):\n",
       " [1] Rcpp_0.12.18         compiler_3.5.1       pillar_1.3.0        \n",
       " [4] plyr_1.8.4           bindr_0.1.1          base64enc_0.1-3     \n",
       " [7] tools_3.5.1          digest_0.6.18        uuid_0.1-2          \n",
       "[10] jsonlite_1.5         evaluate_0.11        tibble_1.4.2        \n",
       "[13] gtable_0.2.0         pkgconfig_2.0.2      rlang_0.2.2         \n",
       "[16] IRdisplay_0.5.0      rstudioapi_0.8       IRkernel_0.8.12.9000\n",
       "[19] bindrcpp_0.2.2       withr_2.1.2          repr_0.15.0         \n",
       "[22] stringr_1.3.1        grid_3.5.1           tidyselect_0.2.4    \n",
       "[25] glue_1.3.0           R6_2.3.0             pbdZMQ_0.3-3        \n",
       "[28] purrr_0.2.5          magrittr_1.5         scales_1.0.0        \n",
       "[31] htmltools_0.3.6      assertthat_0.2.0     colorspace_1.3-2    \n",
       "[34] labeling_0.3         stringi_1.2.4        lazyeval_0.2.1      \n",
       "[37] munsell_0.5.0        crayon_1.3.4        "
      ]
     },
     "metadata": {},
     "output_type": "display_data"
    }
   ],
   "source": [
    "# session info\n",
    "sessionInfo()"
   ]
  },
  {
   "cell_type": "markdown",
   "metadata": {},
   "source": [
    "# Custom Function\n"
   ]
  },
  {
   "cell_type": "code",
   "execution_count": 23,
   "metadata": {},
   "outputs": [
    {
     "data": {
      "text/html": [
       "7"
      ],
      "text/latex": [
       "7"
      ],
      "text/markdown": [
       "7"
      ],
      "text/plain": [
       "[1] 7"
      ]
     },
     "metadata": {},
     "output_type": "display_data"
    }
   ],
   "source": [
    "# custom function from scripts/functions.R loaded in setup\n",
    "test_add(2,5)"
   ]
  },
  {
   "cell_type": "markdown",
   "metadata": {},
   "source": [
    "# Data"
   ]
  },
  {
   "cell_type": "code",
   "execution_count": 24,
   "metadata": {},
   "outputs": [
    {
     "data": {
      "text/html": [
       "<table>\n",
       "<thead><tr><th scope=col>x</th><th scope=col>err</th><th scope=col>y</th></tr></thead>\n",
       "<tbody>\n",
       "\t<tr><td>-20         </td><td>-3.316990507</td><td>5.436820e+02</td></tr>\n",
       "\t<tr><td>-19         </td><td>-4.666116969</td><td>5.600851e+02</td></tr>\n",
       "\t<tr><td>-18         </td><td>-1.434228180</td><td>3.776892e+02</td></tr>\n",
       "\t<tr><td>-17         </td><td> 0.457234445</td><td>2.736631e+02</td></tr>\n",
       "\t<tr><td>-16         </td><td> 4.184228884</td><td>1.396124e+02</td></tr>\n",
       "\t<tr><td>-15         </td><td>-9.421648384</td><td>5.964169e+02</td></tr>\n",
       "\t<tr><td>-14         </td><td> 2.625727025</td><td>1.293741e+02</td></tr>\n",
       "\t<tr><td>-13         </td><td>-4.512441344</td><td>3.066856e+02</td></tr>\n",
       "\t<tr><td>-12         </td><td> 2.610271982</td><td>8.816699e+01</td></tr>\n",
       "\t<tr><td>-11         </td><td>-7.323297139</td><td>3.357432e+02</td></tr>\n",
       "\t<tr><td>-10         </td><td> 1.137761260</td><td>7.853928e+01</td></tr>\n",
       "\t<tr><td> -9         </td><td>-5.641323197</td><td>2.143683e+02</td></tr>\n",
       "\t<tr><td> -8         </td><td>-1.412058584</td><td>8.858685e+01</td></tr>\n",
       "\t<tr><td> -7         </td><td>11.031974843</td><td>1.625682e+01</td></tr>\n",
       "\t<tr><td> -6         </td><td> 5.060488606</td><td>8.826817e-01</td></tr>\n",
       "\t<tr><td> -5         </td><td> 4.307785609</td><td>4.791608e-01</td></tr>\n",
       "\t<tr><td> -4         </td><td> 3.987981233</td><td>1.444508e-04</td></tr>\n",
       "\t<tr><td> -3         </td><td> 2.460960341</td><td>2.905638e-01</td></tr>\n",
       "\t<tr><td> -2         </td><td> 0.005656404</td><td>3.977406e+00</td></tr>\n",
       "\t<tr><td> -1         </td><td> 7.739454335</td><td>4.542024e+01</td></tr>\n",
       "\t<tr><td>  0         </td><td> 5.405723937</td><td>2.922185e+01</td></tr>\n",
       "\t<tr><td>  1         </td><td> 0.879752849</td><td>3.533471e+00</td></tr>\n",
       "\t<tr><td>  2         </td><td> 0.883153860</td><td>8.312576e+00</td></tr>\n",
       "\t<tr><td>  3         </td><td> 1.707506276</td><td>2.216062e+01</td></tr>\n",
       "\t<tr><td>  4         </td><td>-4.592000523</td><td>3.504646e-01</td></tr>\n",
       "\t<tr><td>  5         </td><td>-1.996396005</td><td>9.021637e+00</td></tr>\n",
       "\t<tr><td>  6         </td><td>-3.860666993</td><td>4.576746e+00</td></tr>\n",
       "\t<tr><td>  7         </td><td> 4.002460769</td><td>1.210541e+02</td></tr>\n",
       "\t<tr><td>  8         </td><td> 4.895135681</td><td>1.662845e+02</td></tr>\n",
       "\t<tr><td>  9         </td><td>-3.393709213</td><td>3.143050e+01</td></tr>\n",
       "\t<tr><td> 10         </td><td> 0.188112065</td><td>1.037976e+02</td></tr>\n",
       "\t<tr><td> 11         </td><td> 3.883240436</td><td>2.215108e+02</td></tr>\n",
       "\t<tr><td> 12         </td><td> 3.161837984</td><td>2.298813e+02</td></tr>\n",
       "\t<tr><td> 13         </td><td> 4.757526898</td><td>3.153298e+02</td></tr>\n",
       "\t<tr><td> 14         </td><td>-1.113830365</td><td>1.660534e+02</td></tr>\n",
       "\t<tr><td> 15         </td><td> 6.101417367</td><td>4.452698e+02</td></tr>\n",
       "\t<tr><td> 16         </td><td> 4.858173114</td><td>4.350634e+02</td></tr>\n",
       "\t<tr><td> 17         </td><td>-1.028553652</td><td>2.550871e+02</td></tr>\n",
       "\t<tr><td> 18         </td><td> 2.143627049</td><td>4.057657e+02</td></tr>\n",
       "\t<tr><td> 19         </td><td> 2.928563566</td><td>4.808619e+02</td></tr>\n",
       "\t<tr><td> 20         </td><td>-1.153107716</td><td>3.552053e+02</td></tr>\n",
       "</tbody>\n",
       "</table>\n"
      ],
      "text/latex": [
       "\\begin{tabular}{r|lll}\n",
       " x & err & y\\\\\n",
       "\\hline\n",
       "\t -20          & -3.316990507 & 5.436820e+02\\\\\n",
       "\t -19          & -4.666116969 & 5.600851e+02\\\\\n",
       "\t -18          & -1.434228180 & 3.776892e+02\\\\\n",
       "\t -17          &  0.457234445 & 2.736631e+02\\\\\n",
       "\t -16          &  4.184228884 & 1.396124e+02\\\\\n",
       "\t -15          & -9.421648384 & 5.964169e+02\\\\\n",
       "\t -14          &  2.625727025 & 1.293741e+02\\\\\n",
       "\t -13          & -4.512441344 & 3.066856e+02\\\\\n",
       "\t -12          &  2.610271982 & 8.816699e+01\\\\\n",
       "\t -11          & -7.323297139 & 3.357432e+02\\\\\n",
       "\t -10          &  1.137761260 & 7.853928e+01\\\\\n",
       "\t  -9          & -5.641323197 & 2.143683e+02\\\\\n",
       "\t  -8          & -1.412058584 & 8.858685e+01\\\\\n",
       "\t  -7          & 11.031974843 & 1.625682e+01\\\\\n",
       "\t  -6          &  5.060488606 & 8.826817e-01\\\\\n",
       "\t  -5          &  4.307785609 & 4.791608e-01\\\\\n",
       "\t  -4          &  3.987981233 & 1.444508e-04\\\\\n",
       "\t  -3          &  2.460960341 & 2.905638e-01\\\\\n",
       "\t  -2          &  0.005656404 & 3.977406e+00\\\\\n",
       "\t  -1          &  7.739454335 & 4.542024e+01\\\\\n",
       "\t   0          &  5.405723937 & 2.922185e+01\\\\\n",
       "\t   1          &  0.879752849 & 3.533471e+00\\\\\n",
       "\t   2          &  0.883153860 & 8.312576e+00\\\\\n",
       "\t   3          &  1.707506276 & 2.216062e+01\\\\\n",
       "\t   4          & -4.592000523 & 3.504646e-01\\\\\n",
       "\t   5          & -1.996396005 & 9.021637e+00\\\\\n",
       "\t   6          & -3.860666993 & 4.576746e+00\\\\\n",
       "\t   7          &  4.002460769 & 1.210541e+02\\\\\n",
       "\t   8          &  4.895135681 & 1.662845e+02\\\\\n",
       "\t   9          & -3.393709213 & 3.143050e+01\\\\\n",
       "\t  10          &  0.188112065 & 1.037976e+02\\\\\n",
       "\t  11          &  3.883240436 & 2.215108e+02\\\\\n",
       "\t  12          &  3.161837984 & 2.298813e+02\\\\\n",
       "\t  13          &  4.757526898 & 3.153298e+02\\\\\n",
       "\t  14          & -1.113830365 & 1.660534e+02\\\\\n",
       "\t  15          &  6.101417367 & 4.452698e+02\\\\\n",
       "\t  16          &  4.858173114 & 4.350634e+02\\\\\n",
       "\t  17          & -1.028553652 & 2.550871e+02\\\\\n",
       "\t  18          &  2.143627049 & 4.057657e+02\\\\\n",
       "\t  19          &  2.928563566 & 4.808619e+02\\\\\n",
       "\t  20          & -1.153107716 & 3.552053e+02\\\\\n",
       "\\end{tabular}\n"
      ],
      "text/markdown": [
       "\n",
       "x | err | y | \n",
       "|---|---|---|---|---|---|---|---|---|---|---|---|---|---|---|---|---|---|---|---|---|---|---|---|---|---|---|---|---|---|---|---|---|---|---|---|---|---|---|---|---|\n",
       "| -20          | -3.316990507 | 5.436820e+02 | \n",
       "| -19          | -4.666116969 | 5.600851e+02 | \n",
       "| -18          | -1.434228180 | 3.776892e+02 | \n",
       "| -17          |  0.457234445 | 2.736631e+02 | \n",
       "| -16          |  4.184228884 | 1.396124e+02 | \n",
       "| -15          | -9.421648384 | 5.964169e+02 | \n",
       "| -14          |  2.625727025 | 1.293741e+02 | \n",
       "| -13          | -4.512441344 | 3.066856e+02 | \n",
       "| -12          |  2.610271982 | 8.816699e+01 | \n",
       "| -11          | -7.323297139 | 3.357432e+02 | \n",
       "| -10          |  1.137761260 | 7.853928e+01 | \n",
       "|  -9          | -5.641323197 | 2.143683e+02 | \n",
       "|  -8          | -1.412058584 | 8.858685e+01 | \n",
       "|  -7          | 11.031974843 | 1.625682e+01 | \n",
       "|  -6          |  5.060488606 | 8.826817e-01 | \n",
       "|  -5          |  4.307785609 | 4.791608e-01 | \n",
       "|  -4          |  3.987981233 | 1.444508e-04 | \n",
       "|  -3          |  2.460960341 | 2.905638e-01 | \n",
       "|  -2          |  0.005656404 | 3.977406e+00 | \n",
       "|  -1          |  7.739454335 | 4.542024e+01 | \n",
       "|   0          |  5.405723937 | 2.922185e+01 | \n",
       "|   1          |  0.879752849 | 3.533471e+00 | \n",
       "|   2          |  0.883153860 | 8.312576e+00 | \n",
       "|   3          |  1.707506276 | 2.216062e+01 | \n",
       "|   4          | -4.592000523 | 3.504646e-01 | \n",
       "|   5          | -1.996396005 | 9.021637e+00 | \n",
       "|   6          | -3.860666993 | 4.576746e+00 | \n",
       "|   7          |  4.002460769 | 1.210541e+02 | \n",
       "|   8          |  4.895135681 | 1.662845e+02 | \n",
       "|   9          | -3.393709213 | 3.143050e+01 | \n",
       "|  10          |  0.188112065 | 1.037976e+02 | \n",
       "|  11          |  3.883240436 | 2.215108e+02 | \n",
       "|  12          |  3.161837984 | 2.298813e+02 | \n",
       "|  13          |  4.757526898 | 3.153298e+02 | \n",
       "|  14          | -1.113830365 | 1.660534e+02 | \n",
       "|  15          |  6.101417367 | 4.452698e+02 | \n",
       "|  16          |  4.858173114 | 4.350634e+02 | \n",
       "|  17          | -1.028553652 | 2.550871e+02 | \n",
       "|  18          |  2.143627049 | 4.057657e+02 | \n",
       "|  19          |  2.928563566 | 4.808619e+02 | \n",
       "|  20          | -1.153107716 | 3.552053e+02 | \n",
       "\n",
       "\n"
      ],
      "text/plain": [
       "   x   err          y           \n",
       "1  -20 -3.316990507 5.436820e+02\n",
       "2  -19 -4.666116969 5.600851e+02\n",
       "3  -18 -1.434228180 3.776892e+02\n",
       "4  -17  0.457234445 2.736631e+02\n",
       "5  -16  4.184228884 1.396124e+02\n",
       "6  -15 -9.421648384 5.964169e+02\n",
       "7  -14  2.625727025 1.293741e+02\n",
       "8  -13 -4.512441344 3.066856e+02\n",
       "9  -12  2.610271982 8.816699e+01\n",
       "10 -11 -7.323297139 3.357432e+02\n",
       "11 -10  1.137761260 7.853928e+01\n",
       "12  -9 -5.641323197 2.143683e+02\n",
       "13  -8 -1.412058584 8.858685e+01\n",
       "14  -7 11.031974843 1.625682e+01\n",
       "15  -6  5.060488606 8.826817e-01\n",
       "16  -5  4.307785609 4.791608e-01\n",
       "17  -4  3.987981233 1.444508e-04\n",
       "18  -3  2.460960341 2.905638e-01\n",
       "19  -2  0.005656404 3.977406e+00\n",
       "20  -1  7.739454335 4.542024e+01\n",
       "21   0  5.405723937 2.922185e+01\n",
       "22   1  0.879752849 3.533471e+00\n",
       "23   2  0.883153860 8.312576e+00\n",
       "24   3  1.707506276 2.216062e+01\n",
       "25   4 -4.592000523 3.504646e-01\n",
       "26   5 -1.996396005 9.021637e+00\n",
       "27   6 -3.860666993 4.576746e+00\n",
       "28   7  4.002460769 1.210541e+02\n",
       "29   8  4.895135681 1.662845e+02\n",
       "30   9 -3.393709213 3.143050e+01\n",
       "31  10  0.188112065 1.037976e+02\n",
       "32  11  3.883240436 2.215108e+02\n",
       "33  12  3.161837984 2.298813e+02\n",
       "34  13  4.757526898 3.153298e+02\n",
       "35  14 -1.113830365 1.660534e+02\n",
       "36  15  6.101417367 4.452698e+02\n",
       "37  16  4.858173114 4.350634e+02\n",
       "38  17 -1.028553652 2.550871e+02\n",
       "39  18  2.143627049 4.057657e+02\n",
       "40  19  2.928563566 4.808619e+02\n",
       "41  20 -1.153107716 3.552053e+02"
      ]
     },
     "metadata": {},
     "output_type": "display_data"
    }
   ],
   "source": [
    "# data\n",
    "parabola <- \n",
    "  data_frame(\n",
    "    x = -20:20,\n",
    "    err = rnorm(n = length(x), sd = 5),\n",
    "    y = (x + err)^2\n",
    "  ) \n",
    "parabola"
   ]
  },
  {
   "cell_type": "markdown",
   "metadata": {},
   "source": [
    "# Plot"
   ]
  },
  {
   "cell_type": "code",
   "execution_count": 25,
   "metadata": {},
   "outputs": [
    {
     "data": {},
     "metadata": {},
     "output_type": "display_data"
    },
    {
     "data": {
      "image/png": "[encoded data removed]",
      "text/plain": [
       "plot without title"
      ]
     },
     "metadata": {},
     "output_type": "display_data"
    }
   ],
   "source": [
    "options(repr.plot.width=6, repr.plot.height=4)\n",
    "parabola %>% \n",
    "  ggplot() + \n",
    "  aes(x, y) +\n",
    "  geom_smooth(method = \"lm\", formula = y ~ I(x^2)) + \n",
    "  geom_point() + \n",
    "  theme_bw()"
   ]
  }
 ],
 "metadata": {
  "kernelspec": {
   "display_name": "R",
   "language": "R",
   "name": "ir"
  },
  "language_info": {
   "codemirror_mode": "r",
   "file_extension": ".r",
   "mimetype": "text/x-r-source",
   "name": "R",
   "pygments_lexer": "r",
   "version": "3.5.1"
  }
 },
 "nbformat": 4,
 "nbformat_minor": 2
}
